{
 "cells": [
  {
   "cell_type": "code",
   "execution_count": 1,
   "id": "a5f8a07a",
   "metadata": {},
   "outputs": [],
   "source": [
    "# Import Required Libraries\n",
    "import pandas as pd\n",
    "import numpy as np\n",
    "import matplotlib.pyplot as plt\n",
    "import seaborn as sns\n",
    "\n",
    "# For clean display\n",
    "pd.set_option('display.max_columns', None)\n"
   ]
  },
  {
   "cell_type": "code",
   "execution_count": 9,
   "id": "2bd923c4",
   "metadata": {},
   "outputs": [
    {
     "name": "stderr",
     "output_type": "stream",
     "text": [
      "C:\\Users\\Misirak\\AppData\\Local\\Temp\\ipykernel_15784\\339183972.py:5: DtypeWarning: Columns (16) have mixed types. Specify dtype option on import or set low_memory=False.\n",
      "  df = pd.read_csv(file_path)\n"
     ]
    },
    {
     "name": "stdout",
     "output_type": "stream",
     "text": [
      "✅ Raw dataset loaded!\n",
      "✅ Column names normalized!\n"
     ]
    }
   ],
   "source": [
    "# 📂 Load Dataset and Normalize Columns\n",
    "file_path = \"../data/raw/complaints.csv\"  # adjust path as needed\n",
    "\n",
    "try:\n",
    "    df = pd.read_csv(file_path)\n",
    "    print(\"✅ Raw dataset loaded!\")\n",
    "\n",
    "    # Normalize column names: lowercase and replace spaces with underscores\n",
    "    df.columns = [col.strip().lower().replace(\" \", \"_\") for col in df.columns]\n",
    "    print(\"✅ Column names normalized!\")\n",
    "except FileNotFoundError:\n",
    "    print(\"❌ File not found. Please check the file path.\")\n"
   ]
  },
  {
   "cell_type": "code",
   "execution_count": 10,
   "id": "ec0eb33d",
   "metadata": {},
   "outputs": [
    {
     "name": "stdout",
     "output_type": "stream",
     "text": [
      "Shape: (9609797, 18)\n",
      "\n",
      "Columns:\n",
      " ['date_received', 'product', 'sub-product', 'issue', 'sub-issue', 'consumer_complaint_narrative', 'company_public_response', 'company', 'state', 'zip_code', 'tags', 'consumer_consent_provided?', 'submitted_via', 'date_sent_to_company', 'company_response_to_consumer', 'timely_response?', 'consumer_disputed?', 'complaint_id']\n",
      "<class 'pandas.core.frame.DataFrame'>\n",
      "RangeIndex: 9609797 entries, 0 to 9609796\n",
      "Data columns (total 18 columns):\n",
      " #   Column                        Dtype \n",
      "---  ------                        ----- \n",
      " 0   date_received                 object\n",
      " 1   product                       object\n",
      " 2   sub-product                   object\n",
      " 3   issue                         object\n",
      " 4   sub-issue                     object\n",
      " 5   consumer_complaint_narrative  object\n",
      " 6   company_public_response       object\n",
      " 7   company                       object\n",
      " 8   state                         object\n",
      " 9   zip_code                      object\n",
      " 10  tags                          object\n",
      " 11  consumer_consent_provided?    object\n",
      " 12  submitted_via                 object\n",
      " 13  date_sent_to_company          object\n",
      " 14  company_response_to_consumer  object\n",
      " 15  timely_response?              object\n",
      " 16  consumer_disputed?            object\n",
      " 17  complaint_id                  int64 \n",
      "dtypes: int64(1), object(17)\n",
      "memory usage: 1.3+ GB\n"
     ]
    }
   ],
   "source": [
    "# Basic Info\n",
    "print(\"Shape:\", df.shape)\n",
    "print(\"\\nColumns:\\n\", df.columns.tolist())\n",
    "df.info()\n"
   ]
  },
  {
   "cell_type": "code",
   "execution_count": 11,
   "id": "094038a6",
   "metadata": {},
   "outputs": [
    {
     "data": {
      "text/html": [
       "<div>\n",
       "<style scoped>\n",
       "    .dataframe tbody tr th:only-of-type {\n",
       "        vertical-align: middle;\n",
       "    }\n",
       "\n",
       "    .dataframe tbody tr th {\n",
       "        vertical-align: top;\n",
       "    }\n",
       "\n",
       "    .dataframe thead th {\n",
       "        text-align: right;\n",
       "    }\n",
       "</style>\n",
       "<table border=\"1\" class=\"dataframe\">\n",
       "  <thead>\n",
       "    <tr style=\"text-align: right;\">\n",
       "      <th></th>\n",
       "      <th>date_received</th>\n",
       "      <th>product</th>\n",
       "      <th>sub-product</th>\n",
       "      <th>issue</th>\n",
       "      <th>sub-issue</th>\n",
       "      <th>consumer_complaint_narrative</th>\n",
       "      <th>company_public_response</th>\n",
       "      <th>company</th>\n",
       "      <th>state</th>\n",
       "      <th>zip_code</th>\n",
       "      <th>tags</th>\n",
       "      <th>consumer_consent_provided?</th>\n",
       "      <th>submitted_via</th>\n",
       "      <th>date_sent_to_company</th>\n",
       "      <th>company_response_to_consumer</th>\n",
       "      <th>timely_response?</th>\n",
       "      <th>consumer_disputed?</th>\n",
       "      <th>complaint_id</th>\n",
       "    </tr>\n",
       "  </thead>\n",
       "  <tbody>\n",
       "    <tr>\n",
       "      <th>923736</th>\n",
       "      <td>2025-03-24</td>\n",
       "      <td>Credit reporting or other personal consumer re...</td>\n",
       "      <td>Credit reporting</td>\n",
       "      <td>Problem with a company's investigation into an...</td>\n",
       "      <td>Their investigation did not fix an error on yo...</td>\n",
       "      <td>NaN</td>\n",
       "      <td>NaN</td>\n",
       "      <td>EQUIFAX, INC.</td>\n",
       "      <td>OH</td>\n",
       "      <td>44105</td>\n",
       "      <td>NaN</td>\n",
       "      <td>Consent not provided</td>\n",
       "      <td>Web</td>\n",
       "      <td>2025-03-24</td>\n",
       "      <td>Closed with explanation</td>\n",
       "      <td>Yes</td>\n",
       "      <td>NaN</td>\n",
       "      <td>12623803</td>\n",
       "    </tr>\n",
       "    <tr>\n",
       "      <th>264194</th>\n",
       "      <td>2025-06-20</td>\n",
       "      <td>Credit reporting or other personal consumer re...</td>\n",
       "      <td>Credit reporting</td>\n",
       "      <td>Incorrect information on your report</td>\n",
       "      <td>Information belongs to someone else</td>\n",
       "      <td>NaN</td>\n",
       "      <td>NaN</td>\n",
       "      <td>TRANSUNION INTERMEDIATE HOLDINGS, INC.</td>\n",
       "      <td>GA</td>\n",
       "      <td>30318</td>\n",
       "      <td>NaN</td>\n",
       "      <td>NaN</td>\n",
       "      <td>Web</td>\n",
       "      <td>2025-06-20</td>\n",
       "      <td>In progress</td>\n",
       "      <td>Yes</td>\n",
       "      <td>NaN</td>\n",
       "      <td>14193613</td>\n",
       "    </tr>\n",
       "    <tr>\n",
       "      <th>234101</th>\n",
       "      <td>2025-06-04</td>\n",
       "      <td>Credit reporting or other personal consumer re...</td>\n",
       "      <td>Credit reporting</td>\n",
       "      <td>Incorrect information on your report</td>\n",
       "      <td>Information belongs to someone else</td>\n",
       "      <td>NaN</td>\n",
       "      <td>NaN</td>\n",
       "      <td>EQUIFAX, INC.</td>\n",
       "      <td>CT</td>\n",
       "      <td>06492</td>\n",
       "      <td>NaN</td>\n",
       "      <td>NaN</td>\n",
       "      <td>Web</td>\n",
       "      <td>2025-06-04</td>\n",
       "      <td>In progress</td>\n",
       "      <td>Yes</td>\n",
       "      <td>NaN</td>\n",
       "      <td>13884366</td>\n",
       "    </tr>\n",
       "    <tr>\n",
       "      <th>898549</th>\n",
       "      <td>2025-05-07</td>\n",
       "      <td>Credit reporting or other personal consumer re...</td>\n",
       "      <td>Credit reporting</td>\n",
       "      <td>Improper use of your report</td>\n",
       "      <td>Reporting company used your report improperly</td>\n",
       "      <td>NaN</td>\n",
       "      <td>Company has responded to the consumer and the ...</td>\n",
       "      <td>TRANSUNION INTERMEDIATE HOLDINGS, INC.</td>\n",
       "      <td>FL</td>\n",
       "      <td>33836</td>\n",
       "      <td>Servicemember</td>\n",
       "      <td>Consent not provided</td>\n",
       "      <td>Web</td>\n",
       "      <td>2025-05-07</td>\n",
       "      <td>Closed with non-monetary relief</td>\n",
       "      <td>Yes</td>\n",
       "      <td>NaN</td>\n",
       "      <td>13388934</td>\n",
       "    </tr>\n",
       "    <tr>\n",
       "      <th>4545673</th>\n",
       "      <td>2024-06-03</td>\n",
       "      <td>Checking or savings account</td>\n",
       "      <td>Checking account</td>\n",
       "      <td>Managing an account</td>\n",
       "      <td>Deposits and withdrawals</td>\n",
       "      <td>NaN</td>\n",
       "      <td>NaN</td>\n",
       "      <td>Block, Inc.</td>\n",
       "      <td>NJ</td>\n",
       "      <td>08886</td>\n",
       "      <td>NaN</td>\n",
       "      <td>NaN</td>\n",
       "      <td>Phone</td>\n",
       "      <td>2024-06-03</td>\n",
       "      <td>Closed with explanation</td>\n",
       "      <td>Yes</td>\n",
       "      <td>NaN</td>\n",
       "      <td>9162542</td>\n",
       "    </tr>\n",
       "  </tbody>\n",
       "</table>\n",
       "</div>"
      ],
      "text/plain": [
       "        date_received                                            product  \\\n",
       "923736     2025-03-24  Credit reporting or other personal consumer re...   \n",
       "264194     2025-06-20  Credit reporting or other personal consumer re...   \n",
       "234101     2025-06-04  Credit reporting or other personal consumer re...   \n",
       "898549     2025-05-07  Credit reporting or other personal consumer re...   \n",
       "4545673    2024-06-03                        Checking or savings account   \n",
       "\n",
       "              sub-product                                              issue  \\\n",
       "923736   Credit reporting  Problem with a company's investigation into an...   \n",
       "264194   Credit reporting               Incorrect information on your report   \n",
       "234101   Credit reporting               Incorrect information on your report   \n",
       "898549   Credit reporting                        Improper use of your report   \n",
       "4545673  Checking account                                Managing an account   \n",
       "\n",
       "                                                 sub-issue  \\\n",
       "923736   Their investigation did not fix an error on yo...   \n",
       "264194                 Information belongs to someone else   \n",
       "234101                 Information belongs to someone else   \n",
       "898549       Reporting company used your report improperly   \n",
       "4545673                           Deposits and withdrawals   \n",
       "\n",
       "        consumer_complaint_narrative  \\\n",
       "923736                           NaN   \n",
       "264194                           NaN   \n",
       "234101                           NaN   \n",
       "898549                           NaN   \n",
       "4545673                          NaN   \n",
       "\n",
       "                                   company_public_response  \\\n",
       "923736                                                 NaN   \n",
       "264194                                                 NaN   \n",
       "234101                                                 NaN   \n",
       "898549   Company has responded to the consumer and the ...   \n",
       "4545673                                                NaN   \n",
       "\n",
       "                                        company state zip_code           tags  \\\n",
       "923736                            EQUIFAX, INC.    OH    44105            NaN   \n",
       "264194   TRANSUNION INTERMEDIATE HOLDINGS, INC.    GA    30318            NaN   \n",
       "234101                            EQUIFAX, INC.    CT    06492            NaN   \n",
       "898549   TRANSUNION INTERMEDIATE HOLDINGS, INC.    FL    33836  Servicemember   \n",
       "4545673                             Block, Inc.    NJ    08886            NaN   \n",
       "\n",
       "        consumer_consent_provided? submitted_via date_sent_to_company  \\\n",
       "923736        Consent not provided           Web           2025-03-24   \n",
       "264194                         NaN           Web           2025-06-20   \n",
       "234101                         NaN           Web           2025-06-04   \n",
       "898549        Consent not provided           Web           2025-05-07   \n",
       "4545673                        NaN         Phone           2024-06-03   \n",
       "\n",
       "            company_response_to_consumer timely_response? consumer_disputed?  \\\n",
       "923736           Closed with explanation              Yes                NaN   \n",
       "264194                       In progress              Yes                NaN   \n",
       "234101                       In progress              Yes                NaN   \n",
       "898549   Closed with non-monetary relief              Yes                NaN   \n",
       "4545673          Closed with explanation              Yes                NaN   \n",
       "\n",
       "         complaint_id  \n",
       "923736       12623803  \n",
       "264194       14193613  \n",
       "234101       13884366  \n",
       "898549       13388934  \n",
       "4545673       9162542  "
      ]
     },
     "execution_count": 11,
     "metadata": {},
     "output_type": "execute_result"
    }
   ],
   "source": [
    "#  Peek at the data\n",
    "df.sample(5, random_state=42)\n"
   ]
  },
  {
   "cell_type": "code",
   "execution_count": 12,
   "id": "4bba5f84",
   "metadata": {},
   "outputs": [
    {
     "data": {
      "text/plain": [
       "sub-product                      235295\n",
       "issue                                 6\n",
       "sub-issue                        839522\n",
       "consumer_complaint_narrative    6629041\n",
       "company_public_response         4770207\n",
       "state                             54516\n",
       "zip_code                          30228\n",
       "tags                            8981029\n",
       "consumer_consent_provided?      1649561\n",
       "company_response_to_consumer         20\n",
       "consumer_disputed?              8841498\n",
       "dtype: int64"
      ]
     },
     "execution_count": 12,
     "metadata": {},
     "output_type": "execute_result"
    }
   ],
   "source": [
    "# 🧼 Check missing values\n",
    "missing_summary = df.isnull().sum()\n",
    "missing_summary[missing_summary > 0]\n"
   ]
  },
  {
   "cell_type": "code",
   "execution_count": 13,
   "id": "82f4100e",
   "metadata": {},
   "outputs": [
    {
     "name": "stdout",
     "output_type": "stream",
     "text": [
      "✅ All required columns are present.\n"
     ]
    }
   ],
   "source": [
    "# Re-check for required normalized columns\n",
    "required_cols = ['product', 'consumer_complaint_narrative']\n",
    "\n",
    "missing_cols = [col for col in required_cols if col not in df.columns]\n",
    "if not missing_cols:\n",
    "    print(\"✅ All required columns are present.\")\n",
    "else:\n",
    "    print(f\"❌ Missing columns: {missing_cols}\")\n"
   ]
  },
  {
   "cell_type": "code",
   "execution_count": 14,
   "id": "ef9311bf",
   "metadata": {},
   "outputs": [
    {
     "name": "stdout",
     "output_type": "stream",
     "text": [
      "✅ Filtered to 232040 rows with target products.\n",
      "✅ After dropping empty narratives: 232040 rows remain.\n"
     ]
    }
   ],
   "source": [
    "#  Filter to the 5 target financial products\n",
    "target_products = [\n",
    "    \"credit card\",\n",
    "    \"personal loan\",\n",
    "    \"buy now, pay later\",\n",
    "    \"savings account\",\n",
    "    \"money transfers\"\n",
    "]\n",
    "\n",
    "df['product'] = df['product'].str.lower().str.strip()\n",
    "filtered_df = df[df['product'].isin(target_products)].copy()\n",
    "print(f\"✅ Filtered to {filtered_df.shape[0]} rows with target products.\")\n",
    "\n",
    "# Drop rows with missing or empty narratives\n",
    "filtered_df['consumer_complaint_narrative'] = filtered_df['consumer_complaint_narrative'].astype(str).str.strip()\n",
    "filtered_df = filtered_df[filtered_df['consumer_complaint_narrative'].str.len() > 0]\n",
    "print(f\"✅ After dropping empty narratives: {filtered_df.shape[0]} rows remain.\")\n"
   ]
  },
  {
   "cell_type": "code",
   "execution_count": 15,
   "id": "df4b9fbf",
   "metadata": {},
   "outputs": [
    {
     "data": {
      "image/png": "[encoded data removed]",
      "text/plain": [
       "<Figure size 800x400 with 1 Axes>"
      ]
     },
     "metadata": {},
     "output_type": "display_data"
    }
   ],
   "source": [
    "# Complaint count by product\n",
    "filtered_df['product'].value_counts().plot(kind='bar', figsize=(8, 4), title='Complaint Count by Product')\n",
    "plt.xlabel(\"Product\")\n",
    "plt.ylabel(\"Count\")\n",
    "plt.xticks(rotation=45)\n",
    "plt.grid(True, axis='y')\n",
    "plt.tight_layout()\n",
    "plt.show()\n"
   ]
  },
  {
   "cell_type": "code",
   "execution_count": 16,
   "id": "c1757061",
   "metadata": {},
   "outputs": [
    {
     "name": "stdout",
     "output_type": "stream",
     "text": [
      "✅ Cleaned dataset saved to data/filtered_complaints.csv\n"
     ]
    }
   ],
   "source": [
    "# 💾 Save filtered data for next steps\n",
    "filtered_df.to_csv(\"../data/filtered_complaints.csv\", index=False)\n",
    "print(\"✅ Cleaned dataset saved to data/filtered_complaints.csv\")\n"
   ]
  },
  {
   "cell_type": "code",
   "execution_count": 17,
   "id": "da4ed876",
   "metadata": {},
   "outputs": [
    {
     "name": "stderr",
     "output_type": "stream",
     "text": [
      "C:\\Users\\Misirak\\AppData\\Local\\Temp\\ipykernel_15784\\39840758.py:3: DtypeWarning: Columns (4) have mixed types. Specify dtype option on import or set low_memory=False.\n",
      "  df = pd.read_csv(\"../data/filtered_complaints.csv\")\n"
     ]
    },
    {
     "name": "stdout",
     "output_type": "stream",
     "text": [
      "✅ Filtered data loaded. Shape: (232040, 18)\n"
     ]
    },
    {
     "data": {
      "text/plain": [
       "0    NaN\n",
       "1    NaN\n",
       "Name: consumer_complaint_narrative, dtype: object"
      ]
     },
     "execution_count": 17,
     "metadata": {},
     "output_type": "execute_result"
    }
   ],
   "source": [
    "#Load the saved filtered data\n",
    "\n",
    "df = pd.read_csv(\"../data/filtered_complaints.csv\")\n",
    "print(\"✅ Filtered data loaded. Shape:\", df.shape)\n",
    "df[\"consumer_complaint_narrative\"].head(2)"
   ]
  },
  {
   "cell_type": "code",
   "execution_count": 20,
   "id": "4e4f28a9",
   "metadata": {},
   "outputs": [
    {
     "name": "stderr",
     "output_type": "stream",
     "text": [
      "[nltk_data] Downloading package stopwords to\n",
      "[nltk_data]     C:\\Users\\Misirak\\AppData\\Roaming\\nltk_data...\n",
      "[nltk_data]   Package stopwords is already up-to-date!\n",
      "[nltk_data] Downloading package wordnet to\n",
      "[nltk_data]     C:\\Users\\Misirak\\AppData\\Roaming\\nltk_data...\n",
      "[nltk_data]   Package wordnet is already up-to-date!\n"
     ]
    }
   ],
   "source": [
    "import re\n",
    "import nltk\n",
    "from nltk.corpus import stopwords\n",
    "from nltk.stem import WordNetLemmatizer\n",
    "\n",
    "# Download required NLTK resources (run once)\n",
    "nltk.download('stopwords')\n",
    "nltk.download('wordnet')\n",
    "\n",
    "stop_words = set(stopwords.words(\"english\"))\n",
    "lemmatizer = WordNetLemmatizer()\n",
    "\n",
    "def clean_text(text):\n",
    "    if not isinstance(text, str):\n",
    "        return \"\"  # or return np.nan if you prefer\n",
    "    text = text.lower()\n",
    "    text = re.sub(r'[^a-z\\s]', '', text)\n",
    "    words = text.split()\n",
    "    words = [w for w in words if w not in stop_words]\n",
    "    words = [lemmatizer.lemmatize(w) for w in words]\n",
    "    return ' '.join(words)\n",
    "\n"
   ]
  },
  {
   "cell_type": "code",
   "execution_count": 21,
   "id": "9fabbf9e",
   "metadata": {},
   "outputs": [
    {
     "data": {
      "text/html": [
       "<div>\n",
       "<style scoped>\n",
       "    .dataframe tbody tr th:only-of-type {\n",
       "        vertical-align: middle;\n",
       "    }\n",
       "\n",
       "    .dataframe tbody tr th {\n",
       "        vertical-align: top;\n",
       "    }\n",
       "\n",
       "    .dataframe thead th {\n",
       "        text-align: right;\n",
       "    }\n",
       "</style>\n",
       "<table border=\"1\" class=\"dataframe\">\n",
       "  <thead>\n",
       "    <tr style=\"text-align: right;\">\n",
       "      <th></th>\n",
       "      <th>consumer_complaint_narrative</th>\n",
       "      <th>cleaned_narrative</th>\n",
       "    </tr>\n",
       "  </thead>\n",
       "  <tbody>\n",
       "    <tr>\n",
       "      <th>0</th>\n",
       "      <td>NaN</td>\n",
       "      <td></td>\n",
       "    </tr>\n",
       "    <tr>\n",
       "      <th>1</th>\n",
       "      <td>NaN</td>\n",
       "      <td></td>\n",
       "    </tr>\n",
       "    <tr>\n",
       "      <th>2</th>\n",
       "      <td>NaN</td>\n",
       "      <td></td>\n",
       "    </tr>\n",
       "  </tbody>\n",
       "</table>\n",
       "</div>"
      ],
      "text/plain": [
       "  consumer_complaint_narrative cleaned_narrative\n",
       "0                          NaN                  \n",
       "1                          NaN                  \n",
       "2                          NaN                  "
      ]
     },
     "execution_count": 21,
     "metadata": {},
     "output_type": "execute_result"
    }
   ],
   "source": [
    "# Apply cleaning to the complaint narratives\n",
    "df[\"cleaned_narrative\"] = df[\"consumer_complaint_narrative\"].apply(clean_text)\n",
    "df[[\"consumer_complaint_narrative\", \"cleaned_narrative\"]].head(3)\n"
   ]
  },
  {
   "cell_type": "code",
   "execution_count": 22,
   "id": "725ff303",
   "metadata": {},
   "outputs": [
    {
     "name": "stdout",
     "output_type": "stream",
     "text": [
      "✅ Cleaned narratives saved to ../data/cleaned_complaints.csv\n"
     ]
    }
   ],
   "source": [
    "# Save the updated DataFrame for downstream tasks\n",
    "df.to_csv(\"../data/cleaned_complaints.csv\", index=False)\n",
    "print(\"✅ Cleaned narratives saved to ../data/cleaned_complaints.csv\")\n"
   ]
  }
 ],
 "metadata": {
  "kernelspec": {
   "display_name": "Python 3",
   "language": "python",
   "name": "python3"
  },
  "language_info": {
   "codemirror_mode": {
    "name": "ipython",
    "version": 3
   },
   "file_extension": ".py",
   "mimetype": "text/x-python",
   "name": "python",
   "nbconvert_exporter": "python",
   "pygments_lexer": "ipython3",
   "version": "3.12.0"
  }
 },
 "nbformat": 4,
 "nbformat_minor": 5
}
